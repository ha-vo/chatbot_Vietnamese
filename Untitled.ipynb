{
 "cells": [
  {
   "cell_type": "code",
   "execution_count": 296,
   "id": "389adba1-b434-4e76-9026-bbf6fc71317c",
   "metadata": {},
   "outputs": [
    {
     "name": "stdout",
     "output_type": "stream",
     "text": [
      "['Đây', 'là', 'một', 'ví', 'dụ', 'về', 'sử', 'dụng', 'to', 'ken', 'i', 'zer', 'tiếng', 'Việt', '.']\n",
      "[577, 239, 279, 2708, 2159, 359, 1054, 856, 473, 5321, 76, 7015, 833, 1657, 18]\n",
      "Đây là một ví dụ về sử dụng to ken i zer tiếng Việt .\n"
     ]
    }
   ],
   "source": [
    "from tokenizers import Tokenizer\n",
    "\n",
    "tokenizer = Tokenizer.from_file(\"vi_tokenizer.json\")\n",
    "\n",
    "# Sử dụng tokenizer để mã hóa văn bản\n",
    "text = \"Đây là một ví dụ về sử dụng tokenizer tiếng Việt.\"\n",
    "encoded = tokenizer.encode(text)\n",
    "\n",
    "# In ra kết quả\n",
    "print(encoded.tokens)\n",
    "print(encoded.ids)\n",
    "print(tokenizer.decode(encoded.ids))"
   ]
  },
  {
   "cell_type": "code",
   "execution_count": 297,
   "id": "f3583014-300b-4c83-a724-4399eeec0a44",
   "metadata": {},
   "outputs": [],
   "source": [
    "with open(\"data/cleanData_train.txt\",\"r\", encoding=\"utf-8\") as f:\n",
    "    dataTrain = f.read()\n",
    "with open(\"data/cleanData_val.txt\",\"r\", encoding=\"utf-8\") as f:\n",
    "    dataVal = f.read()"
   ]
  },
  {
   "cell_type": "code",
   "execution_count": 298,
   "id": "bb4046fb-a424-4437-aea6-81e55d6a40c1",
   "metadata": {},
   "outputs": [
    {
     "data": {
      "text/plain": [
       "30000"
      ]
     },
     "execution_count": 298,
     "metadata": {},
     "output_type": "execute_result"
    }
   ],
   "source": [
    "vocab_size = tokenizer.get_vocab_size()\n",
    "vocab_size"
   ]
  },
  {
   "cell_type": "code",
   "execution_count": 299,
   "id": "b6abaad4-c800-433e-ad96-d87b6e454234",
   "metadata": {},
   "outputs": [
    {
     "name": "stdout",
     "output_type": "stream",
     "text": [
      "1020977 113182\n"
     ]
    }
   ],
   "source": [
    "print(len(dataTrain), len(dataVal))"
   ]
  },
  {
   "cell_type": "code",
   "execution_count": 300,
   "id": "505ecec9-1078-408b-ba0b-f62645a3296d",
   "metadata": {},
   "outputs": [],
   "source": [
    "import torch\n",
    "encodedTrain = tokenizer.encode(dataTrain)\n",
    "encodedVal = tokenizer.encode(dataVal)\n",
    "encodedTrainData = torch.tensor(encodedData.ids, dtype=torch.long)\n",
    "encodedValData = torch.tensor(encodedVal.ids, dtype=torch.long)"
   ]
  },
  {
   "cell_type": "code",
   "execution_count": null,
   "id": "6978d5cf-20ef-456f-ab87-39e5c16fee52",
   "metadata": {},
   "outputs": [],
   "source": []
  },
  {
   "cell_type": "code",
   "execution_count": 301,
   "id": "0631b57b-72ca-4c94-83df-11baa6ef7e85",
   "metadata": {},
   "outputs": [
    {
     "name": "stdout",
     "output_type": "stream",
     "text": [
      "tensor([   63,    53,    64,  3636,   464,   979,   420,   894,   775,   786,\n",
      "          484,   261,  5386,   257,   979,   927,  7295,  7482,   205,  2617,\n",
      "         1241,  1657,  1241,   239,    63,    37,    64,  5119,  5813,    18,\n",
      "           63,    53,    64,   834,  1805,   896,   335,  1269,   622,   261,\n",
      "        13127,  2703,  1241,  1107,  1611,   976,   545,   412,   571,   440])\n"
     ]
    },
    {
     "data": {
      "text/plain": [
       "'[ Q ] Căn cứ quân sự liên hợp lớn nhất của Mĩ và quân đội Sài Gòn ở miền Nam Việt Nam là [ A ] Đà Nẵng . [ Q ] Những sân bay đang hoạt động của Duyên hải Nam Trung Bộ kể theo thứ tự từ'"
      ]
     },
     "execution_count": 301,
     "metadata": {},
     "output_type": "execute_result"
    }
   ],
   "source": [
    "print(encodedTrainData[:50])\n",
    "tokenizer.decode(encodedTrainData[:50].tolist())"
   ]
  },
  {
   "cell_type": "code",
   "execution_count": 302,
   "id": "780769e9-f917-4445-aee4-4fc99d408b46",
   "metadata": {},
   "outputs": [
    {
     "name": "stdout",
     "output_type": "stream",
     "text": [
      "tensor([   63,    53,    64,   560, 20942,    16,   493,   320,   704,   245,\n",
      "          511,  1119,   590,  2384,   491,   261,   491,   568,    35,    63,\n",
      "           37,    64,  4193,    18,    63,    53,    64,  1435,   568,  1062,\n",
      "          433,   585,  1137,  1182,  5783,   239,    63,    37,    64,  6569,\n",
      "         2388,   261,  2678,  1666,   651,  1026,   347,  3418,   651,   938])\n"
     ]
    },
    {
     "data": {
      "text/plain": [
       "'[ Q ] năm 1937 , trên cả nước có bao nhiêu cuộc bãi công của công nhân ? [ A ] 400 . [ Q ] nguyên nhân dẫn tới quy luật địa đới là [ A ] Góc chiếu của tia sang mặt trời đến bề mặt đất'"
      ]
     },
     "execution_count": 302,
     "metadata": {},
     "output_type": "execute_result"
    }
   ],
   "source": [
    "print(encodedValData[:50])\n",
    "tokenizer.decode(encodedValData[:50].tolist())"
   ]
  },
  {
   "cell_type": "code",
   "execution_count": 303,
   "id": "80093f31-b035-4d39-a1b6-7f1b621a7e45",
   "metadata": {},
   "outputs": [],
   "source": [
    "import torch.nn as nn\n",
    "from torch.nn import functional as F"
   ]
  },
  {
   "cell_type": "code",
   "execution_count": 304,
   "id": "2b1dbbda-2aa8-424e-930c-2e0649606c7b",
   "metadata": {},
   "outputs": [],
   "source": [
    "batch_size = 16\n",
    "block_size = 32\n",
    "max_iters = 5000\n",
    "eval_interval = 100\n",
    "learning_rate = 1e-3\n",
    "device = 'cuda' if torch.cuda.is_available() else 'cpu'\n",
    "eval_iters = 200\n",
    "n_embd = 64\n",
    "n_head = 4\n",
    "n_layer = 4\n",
    "dropout = 0.2"
   ]
  },
  {
   "cell_type": "code",
   "execution_count": 305,
   "id": "0c5a0d9f-50a3-467d-a7c1-85977df10622",
   "metadata": {},
   "outputs": [],
   "source": [
    "def get_batch(split):\n",
    "    data = encodedTrainData if split == 'train' else encodedValData\n",
    "    ix = torch.randint(len(data) - block_size, (batch_size,))\n",
    "    x = torch.stack([data[i:i+block_size] for i in ix])\n",
    "    y = torch.stack([data[i+1:i+block_size+1] for i in ix])\n",
    "    x, y = x.to(device), y.to(device)\n",
    "    return x, y\n",
    "\n"
   ]
  },
  {
   "cell_type": "code",
   "execution_count": 306,
   "id": "90233782-0cc2-431c-a08a-043dd8a2a4a1",
   "metadata": {},
   "outputs": [],
   "source": [
    "@torch.no_grad()\n",
    "def estimate_loss():\n",
    "    out = {}\n",
    "    model.eval()\n",
    "    for split in ['train','val']:\n",
    "        losses = torch.zeros(eval_iters)\n",
    "        for k in range(eval_iters):\n",
    "            X, Y = get_batch(split)\n",
    "            logits, loss = model(X,Y)\n",
    "            losses[k] = loss.item()\n",
    "        out[split] = losses.mean()\n",
    "    model.train()\n",
    "    return out\n"
   ]
  },
  {
   "cell_type": "code",
   "execution_count": 307,
   "id": "83922341-5476-4218-aeaa-1b8a80ea66ff",
   "metadata": {},
   "outputs": [],
   "source": [
    "class Head(nn.Module):\n",
    "    def __init__(self, head_size):\n",
    "        super().__init__()\n",
    "        self.key = nn.Linear(n_embd, head_size, bias=False)\n",
    "        self.query = nn.Linear(n_embd, head_size, bias=False)\n",
    "        self.value = nn.Linear(n_embd, head_size, bias=False)\n",
    "        self.register_buffer('tril', torch.tril(torch.ones(block_size, block_size)))\n",
    "        self.dropout = nn.Dropout(dropout)\n",
    "\n",
    "    def forward(self, x):\n",
    "        B,T,C = x.shape\n",
    "        k = self.key(x)\n",
    "        q = self.query(x)\n",
    "        # (q * k^T)/(C^(1/2)) C is dim of k\n",
    "        wei = q  @ k.transpose(-2,-1) * C**-0.5\n",
    "        wei = wei.masked_fill(self.tril[:T, :T] == 0, float('-inf'))\n",
    "        wei = F.softmax(wei, dim=-1)\n",
    "        wei = self.dropout(wei)\n",
    "        v = self.value(x)\n",
    "        out = wei @ v\n",
    "        return out      "
   ]
  },
  {
   "cell_type": "code",
   "execution_count": 308,
   "id": "90186561-16ee-4ca5-b3e7-9915bbceec16",
   "metadata": {},
   "outputs": [],
   "source": [
    "    \n",
    "class MultiHeadAttention(nn.Module):\n",
    "    def __init__(self, num_heads, head_size):\n",
    "        super().__init__()\n",
    "        self.heads = nn.ModuleList([Head(head_size) for _ in range(num_heads)])\n",
    "        self.proj = nn.Linear(n_embd, n_embd)\n",
    "        self.dropout = nn.Dropout(dropout)\n",
    "\n",
    "    def forward(self, x):\n",
    "        out = torch.cat([h(x) for h in self.heads], dim=-1)\n",
    "        out = self.dropout(self.proj(out))\n",
    "        return out"
   ]
  },
  {
   "cell_type": "code",
   "execution_count": 309,
   "id": "00b0069b-1b6c-4743-a27e-7a7b3ff1eaa8",
   "metadata": {},
   "outputs": [],
   "source": [
    "class FeedFoward(nn.Module):\n",
    "    def __init__(self, n_embd):\n",
    "        super().__init__()\n",
    "        self.net = nn.Sequential(\n",
    "            nn.Linear(n_embd, 4 *n_embd),\n",
    "            nn.ReLU(),\n",
    "            nn.Linear(4*n_embd, n_embd),\n",
    "            nn.Dropout(dropout)\n",
    "        )\n",
    "\n",
    "    def forward(self, x):\n",
    "        return self.net(x)"
   ]
  },
  {
   "cell_type": "code",
   "execution_count": 310,
   "id": "d9e6de65-4e45-4837-8158-a47fda37160c",
   "metadata": {},
   "outputs": [],
   "source": [
    "class Block(nn.Module):\n",
    "    def __init__(self, n_embd, n_head):\n",
    "        super().__init__()\n",
    "        head_size = n_embd // n_head\n",
    "        self.sa = MultiHeadAttention(n_head, head_size)\n",
    "        self.ffwd = FeedFoward(n_embd)\n",
    "        self.ln1 = nn.LayerNorm(n_embd)\n",
    "        self.ln2 = nn.LayerNorm(n_embd)\n",
    "\n",
    "    def forward(self, x):\n",
    "        x = x + self.sa(self.ln1(x))\n",
    "        x = x + self.ffwd(self.ln2(x))\n",
    "        return x"
   ]
  },
  {
   "cell_type": "code",
   "execution_count": 311,
   "id": "3fcf42e3-2614-4090-917e-ad0d83365230",
   "metadata": {},
   "outputs": [],
   "source": [
    "class BigramLanguageModel(nn.Module):\n",
    "    def __init__(self):\n",
    "        super().__init__()\n",
    "        self.token_embedding_table = nn.Embedding(vocab_size, n_embd)\n",
    "        self.position_embedding_table = nn.Embedding(block_size, n_embd)\n",
    "        self.blocks = nn.Sequential(*[Block(n_embd, n_head=n_head) for _ in range(n_layer)])\n",
    "        self.ln_f = nn.LayerNorm(n_embd)\n",
    "        self.lm_head = nn.Linear(n_embd, vocab_size)\n",
    "\n",
    "    def forward(self, idx, targets=None):\n",
    "        B, T = idx.shape\n",
    "        tok_emd = self.token_embedding_table(idx)\n",
    "        pos_emd = self.position_embedding_table(torch.arange(T, device=device))\n",
    "        x = tok_emd + pos_emd\n",
    "        x = self.blocks(x)\n",
    "        x = self.ln_f(x)\n",
    "        logits = self.lm_head(x)\n",
    "        if targets is None:\n",
    "            loss = None\n",
    "        else:\n",
    "            B, T, C = logits.shape\n",
    "            logits = logits.view(B*T, C)\n",
    "            targets = targets.view(B*T)\n",
    "            loss = F.cross_entropy(logits, targets)\n",
    "            \n",
    "        return logits, loss\n",
    "\n",
    "    def generate(self, idx, max_new_tokens):\n",
    "        for _ in range(max_new_tokens):\n",
    "            idx_cond = idx[:,-block_size:]\n",
    "            logits, loss = self(idx_cond)\n",
    "            logits = logits[:, -1, :]\n",
    "            probs = F.softmax(logits, dim=-1)\n",
    "            idx_next = torch.multinomial(probs, num_samples=1)\n",
    "            idx = torch.cat((idx, idx_next), dim=1)\n",
    "        return idx"
   ]
  },
  {
   "cell_type": "code",
   "execution_count": 317,
   "id": "a46c2b5a-394d-4c1a-9ddb-6202e9a794a2",
   "metadata": {},
   "outputs": [
    {
     "name": "stdout",
     "output_type": "stream",
     "text": [
      "4071344 parameters\n"
     ]
    }
   ],
   "source": [
    "model = BigramLanguageModel()\n",
    "m = model.to(device)\n",
    "print(sum(p.numel() for p in m.parameters()), \"parameters\")\n",
    "optimizer = torch.optim.AdamW(model.parameters(), lr=learning_rate)"
   ]
  },
  {
   "cell_type": "code",
   "execution_count": 318,
   "id": "5dee70fa-f752-44e1-acb9-59d560c0d209",
   "metadata": {},
   "outputs": [
    {
     "name": "stdout",
     "output_type": "stream",
     "text": [
      "step 0: train loss 10.4452, val loss 10.4396\n",
      "step 1000: train loss 4.3356, val loss 4.5652\n",
      "step 2000: train loss 3.8713, val loss 4.2009\n",
      "step 3000: train loss 3.6642, val loss 4.0061\n",
      "step 4000: train loss 3.5201, val loss 3.8669\n",
      "step 5000: train loss 3.4131, val loss 3.8065\n",
      "step 6000: train loss 3.3251, val loss 3.7327\n",
      "step 7000: train loss 3.2261, val loss 3.6434\n",
      "step 8000: train loss 3.1555, val loss 3.6075\n",
      "step 9000: train loss 3.0993, val loss 3.5679\n",
      "step 10000: train loss 3.0496, val loss 3.5280\n",
      "step 11000: train loss 3.0013, val loss 3.4888\n",
      "step 12000: train loss 2.9459, val loss 3.4788\n",
      "step 13000: train loss 2.9123, val loss 3.4211\n",
      "step 14000: train loss 2.8401, val loss 3.4305\n",
      "step 15000: train loss 2.8415, val loss 3.3860\n",
      "step 16000: train loss 2.8163, val loss 3.3651\n",
      "step 17000: train loss 2.7353, val loss 3.3420\n",
      "step 18000: train loss 2.7357, val loss 3.2953\n",
      "step 19000: train loss 2.6858, val loss 3.2828\n",
      "step 20000: train loss 2.6736, val loss 3.2564\n",
      "step 21000: train loss 2.6371, val loss 3.2318\n",
      "step 22000: train loss 2.6076, val loss 3.2255\n",
      "step 23000: train loss 2.5806, val loss 3.1959\n",
      "step 24000: train loss 2.5593, val loss 3.2021\n",
      "step 25000: train loss 2.5297, val loss 3.1626\n",
      "step 26000: train loss 2.5137, val loss 3.1759\n",
      "step 27000: train loss 2.5120, val loss 3.1431\n",
      "step 28000: train loss 2.4825, val loss 3.0877\n",
      "step 29000: train loss 2.4650, val loss 3.0819\n",
      "step 30000: train loss 2.4370, val loss 3.0880\n",
      "step 31000: train loss 2.4220, val loss 3.0895\n",
      "step 32000: train loss 2.4144, val loss 3.0656\n",
      "step 33000: train loss 2.3792, val loss 3.0817\n",
      "step 34000: train loss 2.3577, val loss 3.0638\n",
      "step 35000: train loss 2.3746, val loss 3.0302\n",
      "step 36000: train loss 2.3404, val loss 3.0296\n",
      "step 37000: train loss 2.3323, val loss 3.0712\n",
      "step 38000: train loss 2.3345, val loss 3.0002\n",
      "step 39000: train loss 2.3211, val loss 3.0057\n",
      "step 40000: train loss 2.2889, val loss 3.0240\n",
      "step 41000: train loss 2.3094, val loss 3.0218\n",
      "step 42000: train loss 2.2854, val loss 3.0120\n",
      "step 43000: train loss 2.2661, val loss 2.9849\n",
      "step 44000: train loss 2.2612, val loss 2.9649\n",
      "step 45000: train loss 2.2207, val loss 3.0073\n",
      "step 46000: train loss 2.2387, val loss 2.9483\n",
      "step 47000: train loss 2.2147, val loss 2.9297\n",
      "step 48000: train loss 2.2108, val loss 2.9496\n",
      "step 49000: train loss 2.1980, val loss 2.9713\n",
      "step 50000: train loss 2.1871, val loss 2.9429\n",
      "step 51000: train loss 2.1912, val loss 2.9524\n",
      "step 52000: train loss 2.1930, val loss 2.9468\n",
      "step 53000: train loss 2.1630, val loss 2.9245\n",
      "step 54000: train loss 2.1555, val loss 2.9202\n",
      "step 55000: train loss 2.1597, val loss 2.9145\n",
      "step 56000: train loss 2.1539, val loss 2.8958\n",
      "step 57000: train loss 2.1307, val loss 2.8779\n",
      "step 58000: train loss 2.1258, val loss 2.9388\n",
      "step 59000: train loss 2.1280, val loss 2.9085\n",
      "step 60000: train loss 2.1165, val loss 2.8849\n",
      "step 61000: train loss 2.0977, val loss 2.8888\n",
      "step 62000: train loss 2.1127, val loss 2.8915\n",
      "step 63000: train loss 2.0902, val loss 2.8952\n",
      "step 64000: train loss 2.1062, val loss 2.8957\n",
      "step 65000: train loss 2.0898, val loss 2.8543\n",
      "step 66000: train loss 2.0849, val loss 2.8876\n",
      "step 67000: train loss 2.0853, val loss 2.9010\n",
      "step 68000: train loss 2.0563, val loss 2.8783\n",
      "step 69000: train loss 2.0816, val loss 2.8837\n",
      "step 70000: train loss 2.0725, val loss 2.8704\n",
      "step 71000: train loss 2.0437, val loss 2.8578\n",
      "step 72000: train loss 2.0393, val loss 2.8847\n",
      "step 73000: train loss 2.0336, val loss 2.8816\n",
      "step 74000: train loss 2.0423, val loss 2.8719\n",
      "step 75000: train loss 2.0255, val loss 2.8679\n",
      "step 76000: train loss 2.0334, val loss 2.8631\n",
      "step 77000: train loss 2.0217, val loss 2.8589\n",
      "step 78000: train loss 2.0299, val loss 2.8399\n",
      "step 79000: train loss 2.0207, val loss 2.8363\n",
      "step 80000: train loss 2.0124, val loss 2.8660\n",
      "step 81000: train loss 1.9898, val loss 2.8263\n",
      "step 82000: train loss 1.9991, val loss 2.8510\n",
      "step 83000: train loss 1.9736, val loss 2.8178\n",
      "step 84000: train loss 1.9727, val loss 2.8838\n",
      "step 85000: train loss 1.9912, val loss 2.8782\n",
      "step 86000: train loss 1.9822, val loss 2.8552\n",
      "step 87000: train loss 1.9730, val loss 2.8221\n",
      "step 88000: train loss 1.9699, val loss 2.8031\n",
      "step 89000: train loss 1.9702, val loss 2.8549\n",
      "step 90000: train loss 1.9666, val loss 2.8088\n",
      "step 91000: train loss 1.9284, val loss 2.8260\n",
      "step 92000: train loss 1.9724, val loss 2.8169\n",
      "step 93000: train loss 1.9584, val loss 2.8254\n",
      "step 94000: train loss 1.9418, val loss 2.8426\n",
      "step 95000: train loss 1.9420, val loss 2.8224\n",
      "step 96000: train loss 1.9447, val loss 2.8234\n",
      "step 97000: train loss 1.9420, val loss 2.8203\n",
      "step 98000: train loss 1.9426, val loss 2.7983\n",
      "step 99000: train loss 1.9429, val loss 2.8148\n",
      "step 100000: train loss 1.9298, val loss 2.7967\n",
      "step 101000: train loss 1.9136, val loss 2.8012\n",
      "step 102000: train loss 1.9149, val loss 2.7962\n",
      "step 103000: train loss 1.9295, val loss 2.8010\n",
      "step 104000: train loss 1.9155, val loss 2.8202\n",
      "step 105000: train loss 1.9085, val loss 2.7933\n",
      "step 106000: train loss 1.9171, val loss 2.8042\n",
      "step 107000: train loss 1.9209, val loss 2.8420\n",
      "step 108000: train loss 1.8962, val loss 2.8153\n",
      "step 109000: train loss 1.9022, val loss 2.8110\n",
      "step 110000: train loss 1.8978, val loss 2.8443\n",
      "step 111000: train loss 1.8939, val loss 2.8082\n",
      "step 112000: train loss 1.9062, val loss 2.8113\n",
      "step 113000: train loss 1.8875, val loss 2.7990\n",
      "step 114000: train loss 1.8888, val loss 2.7947\n",
      "step 115000: train loss 1.8737, val loss 2.7902\n",
      "step 116000: train loss 1.8894, val loss 2.8039\n",
      "step 117000: train loss 1.8938, val loss 2.8072\n",
      "step 118000: train loss 1.8735, val loss 2.7889\n",
      "step 119000: train loss 1.8983, val loss 2.7939\n",
      "step 120000: train loss 1.8822, val loss 2.8214\n",
      "step 121000: train loss 1.8525, val loss 2.7968\n",
      "step 122000: train loss 1.8672, val loss 2.7634\n",
      "step 123000: train loss 1.8772, val loss 2.7957\n",
      "step 124000: train loss 1.8692, val loss 2.8255\n",
      "step 125000: train loss 1.8624, val loss 2.7930\n",
      "step 126000: train loss 1.8493, val loss 2.8127\n",
      "step 127000: train loss 1.8692, val loss 2.7947\n",
      "step 128000: train loss 1.8668, val loss 2.7873\n",
      "step 129000: train loss 1.8537, val loss 2.7830\n",
      "step 130000: train loss 1.8564, val loss 2.7872\n",
      "step 131000: train loss 1.8350, val loss 2.7746\n",
      "step 132000: train loss 1.8712, val loss 2.7879\n",
      "step 133000: train loss 1.8664, val loss 2.8057\n",
      "step 134000: train loss 1.8570, val loss 2.8174\n",
      "step 135000: train loss 1.8484, val loss 2.7847\n",
      "step 136000: train loss 1.8374, val loss 2.7905\n",
      "step 137000: train loss 1.8386, val loss 2.8139\n",
      "step 138000: train loss 1.8283, val loss 2.8099\n",
      "step 139000: train loss 1.8375, val loss 2.8128\n",
      "step 140000: train loss 1.8452, val loss 2.8192\n",
      "step 141000: train loss 1.8307, val loss 2.7446\n",
      "step 142000: train loss 1.8207, val loss 2.7708\n",
      "step 143000: train loss 1.8428, val loss 2.7523\n",
      "step 144000: train loss 1.8250, val loss 2.7640\n",
      "step 145000: train loss 1.8289, val loss 2.7849\n",
      "step 146000: train loss 1.8315, val loss 2.7769\n",
      "step 147000: train loss 1.8200, val loss 2.7891\n",
      "step 148000: train loss 1.8171, val loss 2.7800\n",
      "step 149000: train loss 1.8174, val loss 2.7656\n",
      "step 149999: train loss 1.8336, val loss 2.7933\n"
     ]
    }
   ],
   "source": [
    "max_iters = 150000\n",
    "eval_interval = 1000\n",
    "loss_train = {}\n",
    "loss_val = {}\n",
    "for i in range(max_iters):\n",
    "    if i % eval_interval == 0 or i == max_iters - 1:\n",
    "        losses = estimate_loss()\n",
    "        loss_train[str(i)] = losses['train']\n",
    "        loss_val[str(i)] = losses['val']\n",
    "        print(f\"step {i}: train loss {losses['train']:.4f}, val loss {losses['val']:.4f}\")\n",
    "    x , y = get_batch('train')\n",
    "    xb, yb = x,y\n",
    "    logits, loss = model(xb,yb)\n",
    "    optimizer.zero_grad(set_to_none=True)\n",
    "    loss.backward()\n",
    "    optimizer.step()"
   ]
  },
  {
   "cell_type": "code",
   "execution_count": 275,
   "id": "7e11da31-7272-49fc-a3ca-5c689cef1d1a",
   "metadata": {},
   "outputs": [
    {
     "name": "stdout",
     "output_type": "stream",
     "text": [
      "torch.Size([1, 9])\n"
     ]
    }
   ],
   "source": [
    "question = \"tây nam á gồm bao nhiêu quốc gia?\"\n",
    "encoding = tokenizer.encode(question)\n",
    "encoding = torch.tensor([encoding.ids], dtype=torch.long)\n",
    "print(encoding.shape)\n",
    "context = torch.zeros((1, 1), dtype=torch.long, device=device)\n",
    "answer = tokenizer.decode(m.generate(context, max_new_tokens=2000)[0].tolist()) \n",
    "# answer = tokenizer.decode(m.generate(context, max_new_tokens=2000)[0].tolist())\n"
   ]
  },
  {
   "cell_type": "code",
   "execution_count": 276,
   "id": "e5465b9d-30f0-4de0-9172-de97174b0e1c",
   "metadata": {},
   "outputs": [
    {
     "name": "stdout",
     "output_type": "stream",
     "text": [
      "Dùng và dùng người vật lý , thân vào những xâm nhập cư , vi khuẩn thương mại . [ Q ] Cho bảng sau : 0 cây hạt 1 . 5 % biến đổi ra tế bào . [ A ] mỗi phát xtan sinh trưởng toàn dân , an toàn miền Nam , nhân văn phòng [ Q ] Khu vực Tây Nam Á xin có sản lượng lúa gạo lớn nước thành bao nhiêu 1951 đến 16 - 1945 năm trăm ? [ A ] 1946 [ Q ] Loại vật nuôi bán chăn nuôi theo tỉ suất , phân bố trong rất lớn ở Bắc và nước ta được thực hiện mạnh nhất phẩm đã gặp ở đâu ? [ A ] Vì nó không hề tồn tại . [ Q ] Tại sao người được cung cấp sang hệ thông tin nghệ thông qua ? [ A ] Hệ thống tốt đẹp cá thể và giữ chức nội dung của quần xã là . [ Q ] Ở cấp điểm nào ? [ A ] Ở đậu Hà Lan , In - đô - nê - xi - a - a , 20 , các ngày với 25 %. Anh A bị xử lí , ông phải tuân thủ trọng nhất là đúng cùng môn di truyền có đặc điểm của các nguyên tắc nào ? [ A ] Hệ thống tín ngưỡng bản địa của đất nước đi , chí nào ? [ A ] Ngô Thì Nh ậm [ Q ] Cộng hoà Nam Phi đạt bộ hồ chí minh nào ? [ A ] Ai là tác giả . [ Q ] Máy ảnh với sở dữ liệu nhằm mục đích gì ? [ A ] Sử dụng trang trại [ Q ] Nhật Bản là nhà đầu ? [ A ] Sữa si cùng điều OF IN TE GER ; [ Q ] pr int ( x , x , y = > ; [ A ] b và c [ Q ] Một chuyện đùa nho nhỏ là ai ? [ A ] Tờ chỉ thực hiện đúng đắn tài nguyên tắc bổ sung . [ Q ] Trong giai cấp văn hóa , nội gãy của tác động cơ đốt ? [ A ] Ít gây sự làm sự xuất hiện ở phần thân tán theo phương [ Q ] Nội dung của Nghị định nghĩa vụ Liên Xô đã tập - 1931 là gì ? [ A ] Sử học phải các công việc trong sản văn bản . [ Q ] Đặc sắc nhất của qui luật giúp và thành phần trật tự nhiên ? [ A ] 0 , 7 , 1 , 2 , 3 , C4 tạo dòng cuối của ATP là : [ A ] Để trứng mặc dù chuyền sản được bắt và hệ giữa các ứng dụng [ Q ] Địa lý có vai trò như thế nào đối với các ngành công nghiệp của Liên Xô ? [ A ] Quy luật biển . [ Q ] Hiến pháp bản của Nhật Bản trước tác Liên Xô diễn ra trong bối cảnh khi thắng lợi nào ? [ A ] Quân chủ lớn Việt Nam . [ Q ] Khi chọn người dùng hoặc để chọn CS DL có hiện ra : [ A ] Phân quyền truy cập , số 1 , 3 , 5 nhóm trúc hạt / ngày [ Q ] Ngành phát triển kinh tế nào của Đại Thái Bình Dương ? [ A ] Châu Á năm [ Q ] Trong cuộc đấu tranh thế giới mới của Việt Nam ( 1919 - 19 26 - 1975 ) nước Đông Dương mang kiểu gen cho quá gỗ có [ A ] 25 % [ Q ] Để tạo hình một CS DL tạo giống mới trong chọn giống gà như thế nào ? [ A ] 2 [ Q ] Ở thực vật , gen AB Bộ , al en nằm trên đất n ký , al en a quy định Hiến pháp trưng vào bản : [ A ] Hiến pháp , nào sau đây chiếm đóng góp phần quan trọng trong sự phân tầng của tập hợp các ngành nông nghiệp ít là [ A ] Mi , làm sức đóng góp . [ Q ] Hoạt động sản xuất là ngành sản xuất thuỷ sản trong sản xuất nông nghiệp là [ A ] Chăn nuôi vệ cao độ phát triển kinh tế phát triển . [ Q ] Máy ảnh : các thông tin không phải trích từ người gì ? [ A ] Quyết định công trọng , thuần chủng An đã = h [ Q ] Đâu không phải 90 về ? [ A ] Vận chuyển hệ thụ phấn chéo giữa các cây [ Q ] Hậu quả lớn nhất của sinh thái là do [ A ] cân bằng sông Hồng [ Q ] Vùng nông nghiệp của công nghiệp sản xuất nông nghiệp nước ta [ A ] lúa , thực hiện công việc giúp người công việc trong tân dụng chế thuỷ ngoài [ Q ] Ý nào sau đây là vai trò của sản xuất phát triển để tạo ra các sản phẩm có dấu cơ bản như tia hoặc có khả năng nhận và hài hòa tan và lợi ích là [ A ] Ngăn , ngoài , hoạt động , bánh xe động cơ bản không có hiện đại , đặc trưng thống của chế cận xích đạo . [ Q ] Khi sau đó ảnh , trong CS DL cần ? [ Crai đều được ? [ A ] Điều chỉnh de , b và b ma sát cặp : n [ Q ] Trong quá trình sinh trưởng chính của động cơ để giảm chấn là ? [ A ] Nước biển Ma - x ca X ) [ Q ] Điểm dừng vòng lặp ở bởi ? [ A ] Ở động vật , động vật gồm chậm và có 2 . [ Q ] Quan sát hình là phần mềm sau đây để gây ra những cách thêm trường hợp nào sau đây không đúng trong các cơ quan nhà nước bằng phương Đông ? [ A ] Cá - mặn . [ Q ] Câu lệnh SQL hoàn toàn sau tại ? [ A ] Thực hiện chuẩn bị bệnh di truyền có dị dưỡng ở vật quý tộc . [ Q ] Nhiều thí nghiệm , lợn thường sinh sản ở động vật , : [ A ] Loại vật nuôi , chăm sóc các cơ thể thần nông sản phẩm [ Q ] Tiêu chuẩn Viet G AP là gì ? [ A ] Giai đoạn hình thức điểm . [ Q ] Cho ví dụ về bảo vấn ? [ A ] Lực lượng lương thực , Điều [ Q ] Theo lưu hoạt động này dùng loại vật liệu gì [ A ] Hệ thống đường sắt . [ Q ] Sau cuộc Tiến hành cuộc chiến đấu : 1949 tình nguyện Tây Sơn [ A ] Đông Nam giai đoạn duyên hải đầu cho Nga [ Q ] Sự tiến bộ của văn minh của nhà văn nước được xây dựng trong đó là [ A ] Trực tiếp , bồi tụ . [ Q ] mọi giống thuần chủng thường có ưu thế : [ A ] Khí hậu nhiệt đới lá và phần độ cao tuyệt đối carbon dioxide . [ Q ] Nghề nghiệp xây dựng ngành công nghiệp dùng những ngành công nghệ công nghiệp , chú trọng lưu tài khoản tiêu tài tải ? [ A ] Gần 202 [ Q ] Quá trình đô thị hoá chủ yếu nhập của Trung Quốc tập trung chủ yếu như thế nào ? [ A ] Điều chỉnh độ mờ của đường viền thì đến thị trường , con gái bị bệnh [ Q ] Giai đoạn Ove cây oxi độc đáo của nhiều dần ta [ A ] Phong trào sinh giới tính và chất Việt Nam còn trước nguy hiểm Benthic bước nào ? [ A ] Ưu tiên trong quá trình hay chỉ cho các biến [ Q ] Hãy mở đầu sau : 1 d , cho biết Cơ cấu kinh tế của các nước đang nhờ Một thế kỷ ăn sau có [ A ] tổng thái núi phú . [ Q ] Trong số thực , tất hạn của Trái Đất gồm các đại tượng nào ? [ A ] Hậu quả lớn nhất và dâng [ Q ] Kiểu thảm thực vật nào sau đây thường sinh thái núi thấp nhất ? [ A ] Gió ph ơn [ Q ] Chất nào sau đây là hiện tượng ứ giọt của các bánh động vật ở động vật ? [ A ] Hệ thống tốt kém dinh dưỡng và đánh chiếm Indonesia và Philippines [ Q ] Chiến tranh [ A ] Cuộc tiến công - nổi dậy Xuân năm 1945 . [ Q ] > > > 1000 - > > Tài nguyên thiên nhiên thời kì ngày ( tháng 7 - 1979 đến ngày 14 / 7 / 1945 / 1954 ) có bao nhiêu phút ? [ A ] Một năm ? [ Q ] Cho biết : Ở động vật nuôi [ A ] Mùa xuân và mùa khô và mùa hè , tệ nạn dâng lửa động [ Q ] Nháy đâu là một đối mặt phải thực hiện bảo vệ môi trường , mặt trời tối hậu tháng . [ A ] Gió mùa khô . [ Q ] Quan sát hình ảnh sau và cho biết mức nào được chiếc lò gạch ôn [ A ] đủ các thủ lĩnh vực Đông Kh ê . [ Q ] Về sản xuất mạng tháng Mười Nga có quyền xử lí thời vụ gì thì không ai là người phân cảnh trên cơ sở ? [ A ] Không có lưới nội trợ [ Q ] Người mở rộng của vua Rama V sẽ được ứng lịch sử [ A ] Chất nhận được tiêu diệt hết là gì ? [ Q ] Tiêu chuẩn ăn được truyền ngoài thai bong ra nhưng khó khăn trong dịch ối . [ A ] Nhân tố sinh thái [ Q ] Nhân tố được tạo ra bởi ngành nghề nào sau đây trong văn hóa tiền vay cần đề ? [ A ] Trong nước Đức . [ Q ] Ý nào đổi thời kỳ mang tên là gì ? [ A ] Bom hóa chảy của - BU thường gây lỗi gây bệnh úy Vân ? [ A ] từ ngoại trở lên không có sóng bạc gần với cạnh tranh tham gia vào 2 nước . [ Q ] Căn cứ vào đâu để cấp độ Lấy bút danh của con người không làm thiết bị vi hoàn chỉnh [ A ] Nhanh [ Q ] Từ nào dẫn đến kết quả của con người có tín dụng đối với mạng ? [ A ] Vai trò của CL TN trong quần xã sinh thái mà không dây đã tạo ra các biến dị tổ hợp có tần số : qua các giai đoạn sau . 109 k cal ; Sinh vật ngày sinh năm 2005 [ A ] thể có đột biến trội sẽ . [ Q ] Yếu tố thể hiện bằng nhau là đối ngoại vượt bậc ở Liên bang Nga lần thứ hai của Hoa mười 1 , công câu văn vào thời kì mm đến nước Việt Nam lâm vào thời kì cổ , mở được ảnh hưởng bằng lãnh thổ [ Q ] Vì sao tác giả phải nêu xuất sắc lệnh về : [ A ] Ngôn ngữ lập trình\n"
     ]
    }
   ],
   "source": [
    "print(answer)"
   ]
  },
  {
   "cell_type": "code",
   "execution_count": 232,
   "id": "665c3e59-c393-4ff5-b9c1-b817d38164a7",
   "metadata": {},
   "outputs": [
    {
     "data": {
      "text/plain": [
       "tensor([[0]])"
      ]
     },
     "execution_count": 232,
     "metadata": {},
     "output_type": "execute_result"
    }
   ],
   "source": [
    "context = torch.zeros((1, 1), dtype=torch.long, device=device)\n",
    "context"
   ]
  },
  {
   "cell_type": "code",
   "execution_count": 322,
   "id": "c4bc5754-3e2f-4860-a2ff-d27010e6e8bc",
   "metadata": {},
   "outputs": [],
   "source": [
    "torch.save(m, \"gptModel.pt\")\n",
    "import pickle\n",
    "with open(\"loss_train.obj\", \"wb\") as f:\n",
    "    pickle.dump(loss_train, f)\n",
    "with open(\"loss_val.obj\", \"wb\") as f:\n",
    "    pickle.dump(loss_val, f)"
   ]
  },
  {
   "cell_type": "code",
   "execution_count": 323,
   "id": "560a395e-5982-4342-b62c-25259fecc2f0",
   "metadata": {},
   "outputs": [],
   "source": [
    "test_model = torch.load(\"gptModel.pt\")"
   ]
  },
  {
   "cell_type": "code",
   "execution_count": 325,
   "id": "7f839334-37aa-41de-8633-685f990df653",
   "metadata": {},
   "outputs": [
    {
     "data": {
      "text/plain": [
       "'[ Q ] tây nam á gồm bao nhiêu quốc gia ? [ A ] Bỏ ăn hoặc cấu thu xuất xứ tới hạn . [ Q ] Thu hoạch tài chính cá nhân . Ý nào nuôi là thế giới ? [ A ] Tính phân hóa , sáng tạo sự thay đổi theo hướng tăng dần quanh năm ít hơn . [ Q ] Các sinh quyển ở lưỡng : [ A ] Độ ẩm và nhiệt độ thấp . [ Q ] Trong chế phát biểu về mặt của khí hậu sau đây ? [ A ] lớn các ngành công nghiệp giáo văn hoá dựa trên lĩnh vực nào ? [ A ] Sinh học cơ sở hạ tầng của cơ chế thị trường . [ Q ] Vòng đai khô hạn trồng của vùng có đặc điểm nào dưới đây ? [ A ] Có các thuộc tính tự nhiên và ngược lại có biên độ và lớn hơn và độ phì của các đai . [ Q ] 2004 [ A ] L 2020 là các khu công nghiệp đơn trên Tây - Xuân có thể bị phân biệt trên Trái Đất được chiếc có độ dài nhất [ Q ] SQL diễn ra như thế nào ? [ A ] Ngôn ngữ thao tác dữ tìm kiếm nhị phân trùng có thể thay đổi như phần vật liệu là : [ A ] Tế bào được biểu diễn ra nhanh chóng lớn kí hiệu với các lệnh và là các phát biểu sau là ? [ A ] Harbard nhiệt đới ôn hoà ? [ A ] Ngô . [ Q ] Mát mẻ , không được xem , trợ khi đường đi vào máu thì khả từ máu khó thấy : 6 người , kẽm của miền nam , điều khiển ? [ A ] Cac bon 14 . Cơ thể và cách bóc mòn hóa đặc biệt chủng đất không khí nhiều hướng chậm rãi . [ Q ] Trong sản xuất siêu đến những đối tượng bom để đạn của vùng địch mà không đội liên quan điều kiện trong đó . [ A ] Dân số tỉ lệ tại 1 triệu tấn công sớm với mùa đông , giảm tỉ lệ ổ sinh nhiều tín . [ Q ] D . Chất lượng tích [ A ] Độ ẩm . [ Q ] [ A ] Lỗi cường quốc tế bào làm những khó khăn to lớn lên . [ Q ] Hành thực phẩm nào sau đây không phải là nguyên nhân dẫn tới tăng công nghiệp mà gia đông sông ngòi dày dân số thấp phụ thuộc vào rừng công dân có ý nghĩa lớn nhất ? [ A ] Bảo vệ ma quái ở thế giới hạn chiếm 88 ? [ A ] Hợp O ( n _ { 10 } ) [ Q ] 31 1 - 1946 - 1950 là : [ A ] Rơi vào tình hình miền Đông Âu . [ Q ] Thu hút thông minh chủ yếu nên tốt quy định của pháp luật có vai trò là ? [ A ] Phân hóa chất độc cho Đồng bằng sông Hồng và Đồng bằng sông Cửu Long ? [ A ] Tổ tối hậu chủng cho sinh trưởng của loài thực vật là sự thụ tinh của : [ A ] Khí hậu , có chiều cao hơn 200 C w [ Q ] pr int ( 5 là phần [ A ] a [ Q ] Việc tiến hành đội hình thành pho i , vật hoặc thực hiện điều khiển ảnh trong axit pi ru vic t pho i in và bay ? [ A ] Tiêu chuẩn ăn . [ Q ] Sản xuất kinh nghiệm trồng cơ khí có chức năng không phải là ? [ A ] Sữa đậu nành [ Q ] Ý nào là cơ sở đề ra hợp tác so với cường quốc tế của hầu hết dữ liệu ở Đồng bằng sông Hậu quả [ Q ] Theo tác giả là các nước phát triển và nông nghiệp hiện nay là : [ A ] gió đông quanh năm [ Q ] Công nghiệp luật xử phạt tù về việc làm tổn hại của chàng trai trong việc vợ và Nguyễn Tr ãi phải là người ? Thời gian ủ viên gian từ ngày , bệnh gây bệnh bằng cách di cư : [ A ] Cây mướp . [ Q ] Những CS DL có kết tính được thực hiện bằng liên quan niệm : [ A ] Tỉ lệ nhỏ bé nhỏ , có thể tất trình tự được tổng hợp giữa các cá thể trong quần thể gọi là [ A ] giai đoạn sinh trưởng , phối chua theo phương thức dinh dưỡng và đứa trẻ tự thấy so với vật che đời sống con là : [ A ] Khử trùng có tác dụng và thực hiện bằng 20 bóng bề mặt ở khắp nơi , trống lá đang thực hiện nay so với : [ A ] Tiền , đặc biệt , chức và lĩnh vực chính trị ( xã hội ) và biểu toàn vẹn đa dạng và chịu ảnh hưởng của bão nào ? [ A ] Khí hậu cận nhiệt đới ẩm gió Cau . [ Q ] Ở nước ta đặc điểm nào sau Chiến tranh thế giới đối với vào phía bắc ? [ A ] cái . [ Q ] C . Quần đảo liên kết cộng của quốc tế Đồng bằng sông Hồng là [ A ] Các Hoa Kì . [ Q ] Phát biểu nào dưới đây không đúng ? [ A ] Phần mềm diễn ra khi nói đến tính chất di truyền chưa thường trong cơ thể thay đổi theo nhóm đàn hồi , dạng đột biến động , hỏng , hình dạng đột biến các cặp gen dạng : [ A ] tần số mèo và cái để phân bố mẹ phân phối ngẫu phối vì : 1 [ Q ] ưu điểm của tượng phân loại giao phối tự nhiên và sức của giao tử đực . [ A ] cây trồng cho tỉ trọng trong tự nhiên có kiểu tương đồng [ Q ] Khi ví dụ đúng với sự kết một hệ sinh thái tự nhiên tương ứng nào ? [ A ] Chất đầu tiên khuếch tán . [ Q ] Em làm việc dễ dàng bắt buộc , ta tập trung . Đó là ý nghĩa quân của các miền Nam tiến nhân dân Hoa nội khoảng [ A ] quyền lực không phải xác định chủ quan , chủ thể tiêu biểu [ Q ] Đặc điểm về ngành chủ yếu ích là của quá [ A ] phân phối các chất A = 0 ; [ Q ] Theo cách phân cấu trúc và số ngành kinh tế giữa các dân tộc ( là : [ A ] Từ tháng 1 năm 1990 . [ Q ] Trong số 18 41 [ A ] GDP và thế giới càng ủng hộ nhiệt liệt \". [ Q ] Hệ tuần hoàn được từ Mặt Trời là : [ A ] \" Chúng ta vi sinh vật chất di truyền gây ra những sinh trưởng , hơn không ổn định càng thể hiện vì : [ A ] Sử dụng [ Q ] Trong một mục đích lâu năm mất giữa chủ nghĩa xã hội ở Việt Nam , góp quan trọng . [ A ] chủ tịch hồ chí minh . [ Q ] Biểu hiện nào sau đây phản ứng lại chủ yếu chi phối các sự thay thế phát triển thường thông dụng hiệu quả của các đối tượng đồ họa ? [ A ] Ngôn ngữ trong các dữ liệu được bảo vệ bằng ngôn ngữ thông có thể tồn tốt hơn . Ý sau của sự khác nhau cùng một cặp tính trạng do : [ A ] return và max theo thứ 2 X . [ Q ] Nước đi thành viên của APEC vào năm 2020 là gì ? [ A ] B ) I - X [ Q ] Quốc gia nào sau đây không đề ra đời sống chủ tịch hồ chí minh đến biểu hiện chính quyền Sài Gòn đã xác ? [ A ] Hải Phòng thuộc tỉnh . [ Q ] Đâu không phân mềm là không công nghệ cao đồ nguồn thực phẩm có dạng trục tuần tự , lắp ghép các bước chuẩn hoá theo xây dựng giảm tỉ [ Q ] Khối thị trường nào dưới đây có mật độ phân giải mong muốn cho diện tích áp suất mà giữa các trung tâm nông dân ở khu vực Mỹ La - tinh ? [ A ] Tạo ra 40 , tự phát huy cộng hoà xã hội đồng là giai đoạn mọi người trong nước , tổ chức sống , con người tập trung khả năng nào dẫn tới hạn chế kết hợp ? [ A ] Dữ liệu quan trực tiếp [ Q ] Phân danh sách : Phố cổ Hội đồng viện Mỹ Sơn ( đông Mỹ , viện Mỹ La - tinh , trở mạnh mẽ thường xuyên đi các đối mạnh , tiếp tục như thế nào ? [ A ] Động cơ chữ V . Mối đe dọa và các thuộc mối quan hệ thần kinh tế chủ yếu là [ A ] Mỹ dự lễ tăng cường quốc Việt Nam để tận việc xây dựng các nước mạnh nền kinh tế còn làm trọng để đang phát triển tốt , phát triển , không phổ biến chất nền cơ khí trong các ngành đã đảm bảo vệ . [ Q ] Những con gái trong trường hợp cho vật nuôi không thể trong chăn nuôi lợn trong chủ yếu là [ A ] Làm thuần chủng . [ Q ] Nhận định nào sau đây đúng với dải đồng dung về đồng bang Nga ? [ A ] lớn mênh mông trước triều niên ra biển . [ Q ] Quyền bình đẳng về nghĩa vụ địa hình , thời phẩm chăn nuôi giữa con người và tự nhiên và Liên bang quyền xã hội chủ nghĩa ở Liên Xô dài , hai tay sai và đóng băng tuyết [ Q ] Nước uống trong nước nổi tiếng ồn bio gas là cơ sở hạ xuống , thực hiện chính sách đối với Internet ? [ Daksha [ Q ] )) [ A ] Một nhiệm hình thực hiện sách như thế nào ? [ A ] Đứng vị trí thứ hai đầu và cả hàng rộng là hệ nội dung của chủ thể kiến ở At lat địa và các dân số địa lí xã hội . [ Q ] Vũ khí tiêu có thẩm mĩ được biểu nhảy vọt thứ hai bại trên thế giới , giai đoạn 1961 - chống thực dân Pháp ( 1954 - 1975 )? [ A ] Đất thoát nước ở thượng nguồn sống vì nào sau đây ? [ A ] Từ mượn tiếng Anh [ Q ] Đâu là vai trò của ngành thủy sản không phải là bao nhiêu ? [ A ] Một văn bản Hiến pháp thường có khả năng [ Q ] Giao hệ tuần hoàn hở có mấy bước như thế ỀN ? [ A ] Path . [ Q ] Động màn hình vì gia dụng - lin [ A ] Lúa mì và châu Phi kéo về cây phát triển . [ Q ] Dòng biển nào dưới đây có sự miêu tả chính xác nhất ? [ A ] nhận sắt phân biệt chủng tộc đồng như điều hoà sinh dục ? [ A ] Vì bình thường xanh mùa bão . [ Q ] Trong các lối đổi mới trong'"
      ]
     },
     "execution_count": 325,
     "metadata": {},
     "output_type": "execute_result"
    }
   ],
   "source": [
    "question = \"[Q] tây nam á gồm bao nhiêu quốc gia?\"\n",
    "encoding = tokenizer.encode(question)\n",
    "encoding = torch.tensor([encoding.ids], dtype=torch.long)\n",
    "answer = tokenizer.decode(m.generate(encoding, max_new_tokens=2000)[0].tolist())\n",
    "answer"
   ]
  }
 ],
 "metadata": {
  "kernelspec": {
   "display_name": "Python 3 (ipykernel)",
   "language": "python",
   "name": "python3"
  },
  "language_info": {
   "codemirror_mode": {
    "name": "ipython",
    "version": 3
   },
   "file_extension": ".py",
   "mimetype": "text/x-python",
   "name": "python",
   "nbconvert_exporter": "python",
   "pygments_lexer": "ipython3",
   "version": "3.10.0"
  }
 },
 "nbformat": 4,
 "nbformat_minor": 5
}
