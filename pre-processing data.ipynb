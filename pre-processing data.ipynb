{
 "cells": [
  {
   "cell_type": "code",
   "execution_count": 19,
   "id": "0eb9a15f-0513-4f04-8031-11178a610cb7",
   "metadata": {},
   "outputs": [],
   "source": [
    "import pandas as pd"
   ]
  },
  {
   "cell_type": "code",
   "execution_count": 20,
   "id": "3d5e006a-73f2-4300-b0ee-ace9d8264ed9",
   "metadata": {},
   "outputs": [],
   "source": [
    "df = pd.read_csv(\"data/question_answer.csv\", encoding=\"utf-8\")"
   ]
  },
  {
   "cell_type": "code",
   "execution_count": 21,
   "id": "380e9736-ab23-4e37-a588-3ae093444186",
   "metadata": {},
   "outputs": [
    {
     "data": {
      "text/plain": [
       "12914"
      ]
     },
     "execution_count": 21,
     "metadata": {},
     "output_type": "execute_result"
    }
   ],
   "source": [
    "len(df)"
   ]
  },
  {
   "cell_type": "code",
   "execution_count": 22,
   "id": "d4bb4af3-2934-4f1c-98c9-1d93d04a4c5c",
   "metadata": {},
   "outputs": [
    {
     "data": {
      "text/plain": [
       "' Đặc điểm nổi bật của truyền kì?'"
      ]
     },
     "execution_count": 22,
     "metadata": {},
     "output_type": "execute_result"
    }
   ],
   "source": [
    "df[\"question\"][0]"
   ]
  },
  {
   "cell_type": "code",
   "execution_count": 23,
   "id": "67bd51a9-cb9e-42d7-9d7c-a84c061de83a",
   "metadata": {},
   "outputs": [],
   "source": [
    "question_unvalid = [ \"Điền vào\",\"question\"]\n",
    "answer_unvalid = [\"Cả\",\"Đáp án\",\"đúng\",\"answer\"]"
   ]
  },
  {
   "cell_type": "code",
   "execution_count": 24,
   "id": "a27c002f-66ba-425d-80b7-fa0658f68398",
   "metadata": {},
   "outputs": [],
   "source": [
    "df_validQuestion = df[~df[\"question\"].str.contains('|'.join(question_unvalid), case=False, na=False)]"
   ]
  },
  {
   "cell_type": "code",
   "execution_count": 25,
   "id": "3cee3b3a-0d18-454f-92d3-d74ec042a042",
   "metadata": {},
   "outputs": [
    {
     "data": {
      "text/plain": [
       "(12334, 2)"
      ]
     },
     "execution_count": 25,
     "metadata": {},
     "output_type": "execute_result"
    }
   ],
   "source": [
    "df_validQuestion.shape"
   ]
  },
  {
   "cell_type": "code",
   "execution_count": 26,
   "id": "931ba1a8-2f32-41e7-9517-5027398c1905",
   "metadata": {},
   "outputs": [
    {
     "data": {
      "text/plain": [
       "(10824, 2)"
      ]
     },
     "execution_count": 26,
     "metadata": {},
     "output_type": "execute_result"
    }
   ],
   "source": [
    "df_valid = df_validQuestion[~df_validQuestion[\"answer\"].str.contains('|'.join(answer_unvalid), case=False, na=False)]\n",
    "df_valid.shape"
   ]
  },
  {
   "cell_type": "code",
   "execution_count": 27,
   "id": "ec726e1e-31c5-46be-8d7b-0236e39df096",
   "metadata": {},
   "outputs": [],
   "source": [
    "import string\n",
    "import re\n",
    "intab_l = \"ạảãàáâậầấẩẫăắằặẳẵóòọõỏôộổỗồốơờớợởỡéèẻẹẽêếềệểễúùụủũưựữửừứíìịỉĩýỳỷỵỹđ\"\n",
    "ascii_lowercase = 'abcdefghijklmnopqrstuvwxyz'\n",
    "digits = '0123456789'\n",
    "punctuation = r\"\"\"!\"#$%&'()*+,-./:;<=>?@[\\]^_`{|}~\"\"\"\n",
    "whitespace = ' '\n",
    "accept_strings =  intab_l + ascii_lowercase + digits + punctuation + whitespace\n",
    "r = re.compile('^[' + accept_strings + ']+$')\n",
    "def check_tieng_viet(seq):\n",
    "  if re.match(r, seq.lower()):\n",
    "    return True\n",
    "  else:\n",
    "    return False\n"
   ]
  },
  {
   "cell_type": "code",
   "execution_count": 28,
   "id": "e1362885-6864-49e3-ab24-b017abe49b22",
   "metadata": {},
   "outputs": [
    {
     "data": {
      "text/plain": [
       "(9705, 2)"
      ]
     },
     "execution_count": 28,
     "metadata": {},
     "output_type": "execute_result"
    }
   ],
   "source": [
    "df_clean = df_valid[df_valid.apply(lambda x: check_tieng_viet(str(x['question']).lower()) and check_tieng_viet(str(x['answer']).lower()), axis=1)]\n",
    "df_clean.shape"
   ]
  },
  {
   "cell_type": "code",
   "execution_count": 29,
   "id": "3599bfd3-d520-4379-88b7-21fd05b48018",
   "metadata": {},
   "outputs": [],
   "source": [
    "df_clean = df_clean.sample(frac = 1)"
   ]
  },
  {
   "cell_type": "code",
   "execution_count": 30,
   "id": "2c050b21-558c-456d-a091-762a3196d91d",
   "metadata": {},
   "outputs": [],
   "source": [
    "n = int(0.9 * len(df_clean))\n",
    "df_train = df_clean.iloc[:n]\n",
    "df_val = df_clean.iloc[n:]"
   ]
  },
  {
   "cell_type": "code",
   "execution_count": 31,
   "id": "d0194846-54db-482a-abe1-f83148d97d30",
   "metadata": {},
   "outputs": [
    {
     "name": "stdout",
     "output_type": "stream",
     "text": [
      "(8734, 2) (971, 2)\n"
     ]
    }
   ],
   "source": [
    "print(df_train.shape, df_val.shape)"
   ]
  },
  {
   "cell_type": "code",
   "execution_count": null,
   "id": "71a67aae-b0ba-4ad7-b216-3417567dc35d",
   "metadata": {},
   "outputs": [],
   "source": []
  },
  {
   "cell_type": "code",
   "execution_count": 38,
   "id": "6853576e-11df-4d7e-8895-e015d9e4e0d7",
   "metadata": {},
   "outputs": [],
   "source": [
    "with open(\"data/cleanData_train.txt\", \"w\", encoding=\"utf-8\") as f:\n",
    "    for i in range(len(df_train)):\n",
    "        question = str(df_train.iloc[i][\"question\"]).lower()\n",
    "        answer = df_train.iloc[i][\"answer\"]\n",
    "        f.write(f'[Q] {question} [A] {answer}')\n",
    "with open(\"data/cleanData_val.txt\", \"w\", encoding=\"utf-8\") as f:\n",
    "    for i in range(len(df_val)):\n",
    "        question = str(df_val.iloc[i][\"question\"]).lower()\n",
    "        answer = df_val.iloc[i][\"answer\"]\n",
    "        f.write(f'[Q] {question} [A] {answer}')\n",
    "        "
   ]
  },
  {
   "cell_type": "code",
   "execution_count": 63,
   "id": "073935f9-67bd-4b56-8d81-e6309c0a4c4c",
   "metadata": {},
   "outputs": [],
   "source": [
    "with open(\"data/training.txt\", \"r\", encoding=\"utf-8\") as f:\n",
    "    data = f.readlines()"
   ]
  },
  {
   "cell_type": "code",
   "execution_count": 64,
   "id": "f17366a3-0573-4cd0-a98f-0d2b56b7c7fc",
   "metadata": {},
   "outputs": [],
   "source": [
    "data_valid = []\n",
    "for i in data:\n",
    "    if check_tieng_viet(i):\n",
    "        data_valid.append(i)"
   ]
  },
  {
   "cell_type": "code",
   "execution_count": 66,
   "id": "ababbe82-1187-4c53-bbb3-355ed7c5f409",
   "metadata": {},
   "outputs": [
    {
     "name": "stdout",
     "output_type": "stream",
     "text": [
      "data original 3579404\n",
      "data valid 3489517\n"
     ]
    }
   ],
   "source": [
    "print(\"data original\", len(data))\n",
    "print(\"data valid\",len(data_valid))"
   ]
  },
  {
   "cell_type": "code",
   "execution_count": 67,
   "id": "e78002cd-d548-448f-8ab9-b79fcf027c3b",
   "metadata": {},
   "outputs": [],
   "source": [
    "with open(\"data/training_clean.txt\", \"w\", encoding=\"utf-8\") as f:\n",
    "    for i in data_valid:\n",
    "        f.write(i)"
   ]
  },
  {
   "cell_type": "code",
   "execution_count": null,
   "id": "1698d023-98e8-4fd1-8225-1f87ee04f603",
   "metadata": {},
   "outputs": [],
   "source": []
  }
 ],
 "metadata": {
  "kernelspec": {
   "display_name": "Python 3 (ipykernel)",
   "language": "python",
   "name": "python3"
  },
  "language_info": {
   "codemirror_mode": {
    "name": "ipython",
    "version": 3
   },
   "file_extension": ".py",
   "mimetype": "text/x-python",
   "name": "python",
   "nbconvert_exporter": "python",
   "pygments_lexer": "ipython3",
   "version": "3.10.0"
  }
 },
 "nbformat": 4,
 "nbformat_minor": 5
}
