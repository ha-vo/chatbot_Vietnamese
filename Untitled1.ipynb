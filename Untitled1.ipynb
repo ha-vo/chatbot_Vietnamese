{
 "cells": [
  {
   "cell_type": "code",
   "execution_count": 8,
   "id": "a1dbd37a-6206-4d19-b694-3d5749eba25a",
   "metadata": {},
   "outputs": [],
   "source": [
    "import re\n",
    "import json\n",
    "import csv\n",
    "from io import StringIO\n",
    "from bs4 import BeautifulSoup"
   ]
  },
  {
   "cell_type": "code",
   "execution_count": 13,
   "id": "a35a1a28-b442-48bc-b214-1c65ca1318de",
   "metadata": {},
   "outputs": [],
   "source": [
    "stock_url = \"https://query1.finance.yahoo.com/v7/finance/download/{}\"\n",
    "params = {\n",
    "    'range': '5y',\n",
    "    'interval':'1wk',\n",
    "    'events': 'history'\n",
    "}\n",
    "response = requests.get(stock_url.format(\"\"), params=params)"
   ]
  },
  {
   "cell_type": "code",
   "execution_count": 16,
   "id": "83b039b1-ebed-47b5-8f34-91ce9d1e6826",
   "metadata": {},
   "outputs": [
    {
     "data": {
      "text/plain": [
       "'Too Many Requests\\r\\n'"
      ]
     },
     "execution_count": 16,
     "metadata": {},
     "output_type": "execute_result"
    }
   ],
   "source": [
    "response.text"
   ]
  },
  {
   "cell_type": "code",
   "execution_count": 14,
   "id": "983078bc-9ee6-4f28-87f6-7b4dc7b751dd",
   "metadata": {},
   "outputs": [
    {
     "name": "stdout",
     "output_type": "stream",
     "text": [
      "['Too Many Requests']\n"
     ]
    }
   ],
   "source": [
    "file = StringIO(response.text)\n",
    "reader = csv.reader(file)\n",
    "data = list(reader)\n",
    "for row in data[:5]:\n",
    "    print(row)\n"
   ]
  }
 ],
 "metadata": {
  "kernelspec": {
   "display_name": "Python 3 (ipykernel)",
   "language": "python",
   "name": "python3"
  },
  "language_info": {
   "codemirror_mode": {
    "name": "ipython",
    "version": 3
   },
   "file_extension": ".py",
   "mimetype": "text/x-python",
   "name": "python",
   "nbconvert_exporter": "python",
   "pygments_lexer": "ipython3",
   "version": "3.10.0"
  }
 },
 "nbformat": 4,
 "nbformat_minor": 5
}
